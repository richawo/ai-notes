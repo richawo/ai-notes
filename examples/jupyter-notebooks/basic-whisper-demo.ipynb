{
 "cells": [
  {
   "cell_type": "markdown",
   "id": "af280887-30bd-49f8-ac64-7d0ed446628b",
   "metadata": {},
   "source": [
    "## Install Dependencies"
   ]
  },
  {
   "cell_type": "code",
   "execution_count": 1,
   "id": "e919f5e1-08f2-4cf1-8909-5a5d0d6641b5",
   "metadata": {},
   "outputs": [
    {
     "name": "stdout",
     "output_type": "stream",
     "text": [
      "Requirement already satisfied: openai-whisper in /Library/Frameworks/Python.framework/Versions/3.11/lib/python3.11/site-packages (20231106)\n",
      "Requirement already satisfied: numba in /Library/Frameworks/Python.framework/Versions/3.11/lib/python3.11/site-packages (from openai-whisper) (0.58.1)\n",
      "Requirement already satisfied: numpy in /Library/Frameworks/Python.framework/Versions/3.11/lib/python3.11/site-packages (from openai-whisper) (1.25.1)\n",
      "Requirement already satisfied: torch in /Library/Frameworks/Python.framework/Versions/3.11/lib/python3.11/site-packages (from openai-whisper) (2.1.0)\n",
      "Requirement already satisfied: tqdm in /Library/Frameworks/Python.framework/Versions/3.11/lib/python3.11/site-packages (from openai-whisper) (4.65.0)\n",
      "Requirement already satisfied: more-itertools in /Library/Frameworks/Python.framework/Versions/3.11/lib/python3.11/site-packages (from openai-whisper) (10.1.0)\n",
      "Requirement already satisfied: tiktoken in /Library/Frameworks/Python.framework/Versions/3.11/lib/python3.11/site-packages (from openai-whisper) (0.5.1)\n",
      "Requirement already satisfied: llvmlite<0.42,>=0.41.0dev0 in /Library/Frameworks/Python.framework/Versions/3.11/lib/python3.11/site-packages (from numba->openai-whisper) (0.41.1)\n",
      "Requirement already satisfied: regex>=2022.1.18 in /Library/Frameworks/Python.framework/Versions/3.11/lib/python3.11/site-packages (from tiktoken->openai-whisper) (2023.6.3)\n",
      "Requirement already satisfied: requests>=2.26.0 in /Library/Frameworks/Python.framework/Versions/3.11/lib/python3.11/site-packages (from tiktoken->openai-whisper) (2.31.0)\n",
      "Requirement already satisfied: filelock in /Library/Frameworks/Python.framework/Versions/3.11/lib/python3.11/site-packages (from torch->openai-whisper) (3.12.2)\n",
      "Requirement already satisfied: typing-extensions in /Library/Frameworks/Python.framework/Versions/3.11/lib/python3.11/site-packages (from torch->openai-whisper) (4.8.0)\n",
      "Requirement already satisfied: sympy in /Library/Frameworks/Python.framework/Versions/3.11/lib/python3.11/site-packages (from torch->openai-whisper) (1.12)\n",
      "Requirement already satisfied: networkx in /Library/Frameworks/Python.framework/Versions/3.11/lib/python3.11/site-packages (from torch->openai-whisper) (3.1)\n",
      "Requirement already satisfied: jinja2 in /Library/Frameworks/Python.framework/Versions/3.11/lib/python3.11/site-packages (from torch->openai-whisper) (3.1.2)\n",
      "Requirement already satisfied: fsspec in /Library/Frameworks/Python.framework/Versions/3.11/lib/python3.11/site-packages (from torch->openai-whisper) (2023.6.0)\n",
      "Requirement already satisfied: charset-normalizer<4,>=2 in /Library/Frameworks/Python.framework/Versions/3.11/lib/python3.11/site-packages (from requests>=2.26.0->tiktoken->openai-whisper) (3.1.0)\n",
      "Requirement already satisfied: idna<4,>=2.5 in /Library/Frameworks/Python.framework/Versions/3.11/lib/python3.11/site-packages (from requests>=2.26.0->tiktoken->openai-whisper) (3.4)\n",
      "Requirement already satisfied: urllib3<3,>=1.21.1 in /Library/Frameworks/Python.framework/Versions/3.11/lib/python3.11/site-packages (from requests>=2.26.0->tiktoken->openai-whisper) (1.26.16)\n",
      "Requirement already satisfied: certifi>=2017.4.17 in /Library/Frameworks/Python.framework/Versions/3.11/lib/python3.11/site-packages (from requests>=2.26.0->tiktoken->openai-whisper) (2023.7.22)\n",
      "Requirement already satisfied: MarkupSafe>=2.0 in /Library/Frameworks/Python.framework/Versions/3.11/lib/python3.11/site-packages (from jinja2->torch->openai-whisper) (2.1.3)\n",
      "Requirement already satisfied: mpmath>=0.19 in /Library/Frameworks/Python.framework/Versions/3.11/lib/python3.11/site-packages (from sympy->torch->openai-whisper) (1.3.0)\n",
      "\n",
      "\u001b[1m[\u001b[0m\u001b[34;49mnotice\u001b[0m\u001b[1;39;49m]\u001b[0m\u001b[39;49m A new release of pip is available: \u001b[0m\u001b[31;49m23.2.1\u001b[0m\u001b[39;49m -> \u001b[0m\u001b[32;49m23.3.1\u001b[0m\n",
      "\u001b[1m[\u001b[0m\u001b[34;49mnotice\u001b[0m\u001b[1;39;49m]\u001b[0m\u001b[39;49m To update, run: \u001b[0m\u001b[32;49mpip install --upgrade pip\u001b[0m\n",
      "Collecting git+https://github.com/jianfch/stable-ts.git\n",
      "  Cloning https://github.com/jianfch/stable-ts.git to /private/var/folders/11/j952l1hd3t7__pfbt3y3kk8c0000gn/T/pip-req-build-8yxj2s3x\n",
      "  Running command git clone --filter=blob:none --quiet https://github.com/jianfch/stable-ts.git /private/var/folders/11/j952l1hd3t7__pfbt3y3kk8c0000gn/T/pip-req-build-8yxj2s3x\n",
      "  Resolved https://github.com/jianfch/stable-ts.git to commit b336735ff784bb59690eec8f9f706b0151dda74c\n",
      "  Preparing metadata (setup.py) ... \u001b[?25ldone\n",
      "\u001b[?25hRequirement already satisfied: numpy in /Library/Frameworks/Python.framework/Versions/3.11/lib/python3.11/site-packages (from stable-ts==2.13.2) (1.25.1)\n",
      "Requirement already satisfied: torch in /Library/Frameworks/Python.framework/Versions/3.11/lib/python3.11/site-packages (from stable-ts==2.13.2) (2.1.0)\n",
      "Requirement already satisfied: torchaudio in /Library/Frameworks/Python.framework/Versions/3.11/lib/python3.11/site-packages (from stable-ts==2.13.2) (2.1.0)\n",
      "Requirement already satisfied: tqdm in /Library/Frameworks/Python.framework/Versions/3.11/lib/python3.11/site-packages (from stable-ts==2.13.2) (4.65.0)\n",
      "Requirement already satisfied: more-itertools in /Library/Frameworks/Python.framework/Versions/3.11/lib/python3.11/site-packages (from stable-ts==2.13.2) (10.1.0)\n",
      "Requirement already satisfied: transformers>=4.19.0 in /Library/Frameworks/Python.framework/Versions/3.11/lib/python3.11/site-packages (from stable-ts==2.13.2) (4.35.0.dev0)\n",
      "Requirement already satisfied: ffmpeg-python==0.2.0 in /Library/Frameworks/Python.framework/Versions/3.11/lib/python3.11/site-packages (from stable-ts==2.13.2) (0.2.0)\n",
      "Requirement already satisfied: openai-whisper==20231106 in /Library/Frameworks/Python.framework/Versions/3.11/lib/python3.11/site-packages (from stable-ts==2.13.2) (20231106)\n",
      "Requirement already satisfied: future in /Library/Frameworks/Python.framework/Versions/3.11/lib/python3.11/site-packages (from ffmpeg-python==0.2.0->stable-ts==2.13.2) (0.18.3)\n",
      "Requirement already satisfied: numba in /Library/Frameworks/Python.framework/Versions/3.11/lib/python3.11/site-packages (from openai-whisper==20231106->stable-ts==2.13.2) (0.58.1)\n",
      "Requirement already satisfied: tiktoken in /Library/Frameworks/Python.framework/Versions/3.11/lib/python3.11/site-packages (from openai-whisper==20231106->stable-ts==2.13.2) (0.5.1)\n",
      "Requirement already satisfied: filelock in /Library/Frameworks/Python.framework/Versions/3.11/lib/python3.11/site-packages (from transformers>=4.19.0->stable-ts==2.13.2) (3.12.2)\n",
      "Requirement already satisfied: huggingface-hub<1.0,>=0.16.4 in /Library/Frameworks/Python.framework/Versions/3.11/lib/python3.11/site-packages (from transformers>=4.19.0->stable-ts==2.13.2) (0.16.4)\n",
      "Requirement already satisfied: packaging>=20.0 in /Library/Frameworks/Python.framework/Versions/3.11/lib/python3.11/site-packages (from transformers>=4.19.0->stable-ts==2.13.2) (23.1)\n",
      "Requirement already satisfied: pyyaml>=5.1 in /Library/Frameworks/Python.framework/Versions/3.11/lib/python3.11/site-packages (from transformers>=4.19.0->stable-ts==2.13.2) (6.0)\n",
      "Requirement already satisfied: regex!=2019.12.17 in /Library/Frameworks/Python.framework/Versions/3.11/lib/python3.11/site-packages (from transformers>=4.19.0->stable-ts==2.13.2) (2023.6.3)\n",
      "Requirement already satisfied: requests in /Library/Frameworks/Python.framework/Versions/3.11/lib/python3.11/site-packages (from transformers>=4.19.0->stable-ts==2.13.2) (2.31.0)\n",
      "Requirement already satisfied: tokenizers<0.15,>=0.14 in /Library/Frameworks/Python.framework/Versions/3.11/lib/python3.11/site-packages (from transformers>=4.19.0->stable-ts==2.13.2) (0.14.0)\n",
      "Requirement already satisfied: safetensors>=0.3.1 in /Library/Frameworks/Python.framework/Versions/3.11/lib/python3.11/site-packages (from transformers>=4.19.0->stable-ts==2.13.2) (0.3.1)\n",
      "Requirement already satisfied: typing-extensions in /Library/Frameworks/Python.framework/Versions/3.11/lib/python3.11/site-packages (from torch->stable-ts==2.13.2) (4.8.0)\n",
      "Requirement already satisfied: sympy in /Library/Frameworks/Python.framework/Versions/3.11/lib/python3.11/site-packages (from torch->stable-ts==2.13.2) (1.12)\n",
      "Requirement already satisfied: networkx in /Library/Frameworks/Python.framework/Versions/3.11/lib/python3.11/site-packages (from torch->stable-ts==2.13.2) (3.1)\n",
      "Requirement already satisfied: jinja2 in /Library/Frameworks/Python.framework/Versions/3.11/lib/python3.11/site-packages (from torch->stable-ts==2.13.2) (3.1.2)\n",
      "Requirement already satisfied: fsspec in /Library/Frameworks/Python.framework/Versions/3.11/lib/python3.11/site-packages (from torch->stable-ts==2.13.2) (2023.6.0)\n",
      "Requirement already satisfied: MarkupSafe>=2.0 in /Library/Frameworks/Python.framework/Versions/3.11/lib/python3.11/site-packages (from jinja2->torch->stable-ts==2.13.2) (2.1.3)\n",
      "Requirement already satisfied: llvmlite<0.42,>=0.41.0dev0 in /Library/Frameworks/Python.framework/Versions/3.11/lib/python3.11/site-packages (from numba->openai-whisper==20231106->stable-ts==2.13.2) (0.41.1)\n",
      "Requirement already satisfied: charset-normalizer<4,>=2 in /Library/Frameworks/Python.framework/Versions/3.11/lib/python3.11/site-packages (from requests->transformers>=4.19.0->stable-ts==2.13.2) (3.1.0)\n",
      "Requirement already satisfied: idna<4,>=2.5 in /Library/Frameworks/Python.framework/Versions/3.11/lib/python3.11/site-packages (from requests->transformers>=4.19.0->stable-ts==2.13.2) (3.4)\n",
      "Requirement already satisfied: urllib3<3,>=1.21.1 in /Library/Frameworks/Python.framework/Versions/3.11/lib/python3.11/site-packages (from requests->transformers>=4.19.0->stable-ts==2.13.2) (1.26.16)\n",
      "Requirement already satisfied: certifi>=2017.4.17 in /Library/Frameworks/Python.framework/Versions/3.11/lib/python3.11/site-packages (from requests->transformers>=4.19.0->stable-ts==2.13.2) (2023.7.22)\n",
      "Requirement already satisfied: mpmath>=0.19 in /Library/Frameworks/Python.framework/Versions/3.11/lib/python3.11/site-packages (from sympy->torch->stable-ts==2.13.2) (1.3.0)\n",
      "\n",
      "\u001b[1m[\u001b[0m\u001b[34;49mnotice\u001b[0m\u001b[1;39;49m]\u001b[0m\u001b[39;49m A new release of pip is available: \u001b[0m\u001b[31;49m23.2.1\u001b[0m\u001b[39;49m -> \u001b[0m\u001b[32;49m23.3.1\u001b[0m\n",
      "\u001b[1m[\u001b[0m\u001b[34;49mnotice\u001b[0m\u001b[1;39;49m]\u001b[0m\u001b[39;49m To update, run: \u001b[0m\u001b[32;49mpip install --upgrade pip\u001b[0m\n"
     ]
    }
   ],
   "source": [
    "# https://github.com/jianfch/stable-ts\n",
    "# You may have to do `!pip install certifi` and run the certificates in your application/python folder.\n",
    "!pip install -U openai-whisper\n",
    "!pip install -U git+https://github.com/jianfch/stable-ts.git"
   ]
  },
  {
   "cell_type": "markdown",
   "id": "44e93a0b-90b2-45f6-a3e1-d1a4a8d6a1d3",
   "metadata": {},
   "source": [
    "## Import Libraries"
   ]
  },
  {
   "cell_type": "code",
   "execution_count": 3,
   "id": "d3cf42bd-3ccb-4056-8917-79a61ff20de2",
   "metadata": {},
   "outputs": [],
   "source": [
    "import stable_whisper"
   ]
  },
  {
   "cell_type": "code",
   "execution_count": 4,
   "id": "8b3e3099-0713-45c1-9edb-846190cfc0f5",
   "metadata": {},
   "outputs": [
    {
     "name": "stderr",
     "output_type": "stream",
     "text": [
      "100%|███████████████████████████████████████| 139M/139M [00:24<00:00, 6.00MiB/s]\n"
     ]
    }
   ],
   "source": [
    "model = stable_whisper.load_model('base') # tiny, base, small, medium, large"
   ]
  },
  {
   "cell_type": "code",
   "execution_count": 19,
   "id": "e94dbc42-fbe0-4cc5-b44b-b4f8a19b570d",
   "metadata": {
    "scrolled": true
   },
   "outputs": [
    {
     "name": "stdout",
     "output_type": "stream",
     "text": [
      "Uninstalling /opt/homebrew/Cellar/librist/0.2.7_3... (28 files, 752.9KB)\n",
      "Uninstalling /opt/homebrew/Cellar/mbedtls/3.5.1... (192 files, 12MB)\n",
      "\u001b[34m==>\u001b[0m \u001b[1mDownloading https://ghcr.io/v2/homebrew/core/ffmpeg/manifests/6.0_1-2\u001b[0m\n",
      "Already downloaded: /Users/richardawoyemi/Library/Caches/Homebrew/downloads/a839e675f8ecc4a6c3a689dae26e0deed55876713b87948b57ae6840dd6d5819--ffmpeg-6.0_1-2.bottle_manifest.json\n",
      "\u001b[32m==>\u001b[0m \u001b[1mFetching dependencies for ffmpeg: \u001b[32mmbedtls\u001b[39m and \u001b[32mlibrist\u001b[39m\u001b[0m\n",
      "\u001b[34m==>\u001b[0m \u001b[1mDownloading https://ghcr.io/v2/homebrew/core/mbedtls/manifests/3.5.1\u001b[0m\n",
      "Already downloaded: /Users/richardawoyemi/Library/Caches/Homebrew/downloads/b16d7db8b23100d49ccbf9a7ba52d8a989281b89810ae8211ba3ba5fe3199d0f--mbedtls-3.5.1.bottle_manifest.json\n",
      "\u001b[32m==>\u001b[0m \u001b[1mFetching \u001b[32mmbedtls\u001b[39m\u001b[0m\n",
      "\u001b[34m==>\u001b[0m \u001b[1mDownloading https://ghcr.io/v2/homebrew/core/mbedtls/blobs/sha256:737687d786\u001b[0m\n",
      "Already downloaded: /Users/richardawoyemi/Library/Caches/Homebrew/downloads/7c7059859732706191de6148e0cf3f7e06ab7b1672b3ffc0e37fc17e0dd40736--mbedtls--3.5.1.arm64_sonoma.bottle.tar.gz\n",
      "\u001b[34m==>\u001b[0m \u001b[1mDownloading https://ghcr.io/v2/homebrew/core/librist/manifests/0.2.7_4\u001b[0m\n",
      "Already downloaded: /Users/richardawoyemi/Library/Caches/Homebrew/downloads/323b53f4b59f40f1a08b9355d1987536f30020b4ea5550076e21effcd16d15d8--librist-0.2.7_4.bottle_manifest.json\n",
      "\u001b[32m==>\u001b[0m \u001b[1mFetching \u001b[32mlibrist\u001b[39m\u001b[0m\n",
      "\u001b[34m==>\u001b[0m \u001b[1mDownloading https://ghcr.io/v2/homebrew/core/librist/blobs/sha256:e8b52b9e66\u001b[0m\n",
      "######################################################################### 100.0%\n",
      "\u001b[32m==>\u001b[0m \u001b[1mFetching \u001b[32mffmpeg\u001b[39m\u001b[0m\n",
      "\u001b[34m==>\u001b[0m \u001b[1mDownloading https://ghcr.io/v2/homebrew/core/ffmpeg/blobs/sha256:42d52253402\u001b[0m\n",
      "Already downloaded: /Users/richardawoyemi/Library/Caches/Homebrew/downloads/674b8adba245ad3d81c5130afc3c14372086dc35d08d705ebe1e90a771b5a4e5--ffmpeg--6.0_1.arm64_sonoma.bottle.2.tar.gz\n",
      "\u001b[32m==>\u001b[0m \u001b[1mReinstalling \u001b[32mffmpeg\u001b[39m \u001b[0m\n",
      "\u001b[32m==>\u001b[0m \u001b[1mInstalling dependencies for ffmpeg: \u001b[32mmbedtls\u001b[39m and \u001b[32mlibrist\u001b[39m\u001b[0m\n",
      "\u001b[32m==>\u001b[0m \u001b[1mInstalling ffmpeg dependency: \u001b[32mmbedtls\u001b[39m\u001b[0m\n",
      "\u001b[34m==>\u001b[0m \u001b[1mDownloading https://ghcr.io/v2/homebrew/core/mbedtls/manifests/3.5.1\u001b[0m\n",
      "Already downloaded: /Users/richardawoyemi/Library/Caches/Homebrew/downloads/b16d7db8b23100d49ccbf9a7ba52d8a989281b89810ae8211ba3ba5fe3199d0f--mbedtls-3.5.1.bottle_manifest.json\n",
      "\u001b[34m==>\u001b[0m \u001b[1mPouring mbedtls--3.5.1.arm64_sonoma.bottle.tar.gz\u001b[0m\n",
      "🍺  /opt/homebrew/Cellar/mbedtls/3.5.1: 192 files, 12MB\n",
      "\u001b[32m==>\u001b[0m \u001b[1mInstalling ffmpeg dependency: \u001b[32mlibrist\u001b[39m\u001b[0m\n",
      "\u001b[34m==>\u001b[0m \u001b[1mDownloading https://ghcr.io/v2/homebrew/core/librist/manifests/0.2.7_4\u001b[0m\n",
      "Already downloaded: /Users/richardawoyemi/Library/Caches/Homebrew/downloads/323b53f4b59f40f1a08b9355d1987536f30020b4ea5550076e21effcd16d15d8--librist-0.2.7_4.bottle_manifest.json\n",
      "\u001b[34m==>\u001b[0m \u001b[1mPouring librist--0.2.7_4.arm64_sonoma.bottle.tar.gz\u001b[0m\n",
      "🍺  /opt/homebrew/Cellar/librist/0.2.7_4: 28 files, 753.3KB\n",
      "\u001b[32m==>\u001b[0m \u001b[1mInstalling \u001b[32mffmpeg\u001b[39m\u001b[0m\n",
      "\u001b[34m==>\u001b[0m \u001b[1mPouring ffmpeg--6.0_1.arm64_sonoma.bottle.2.tar.gz\u001b[0m\n",
      "🍺  /opt/homebrew/Cellar/ffmpeg/6.0_1: 284 files, 48.7MB\n",
      "\u001b[34m==>\u001b[0m \u001b[1mRunning `brew cleanup ffmpeg`...\u001b[0m\n",
      "Disable this behaviour by setting HOMEBREW_NO_INSTALL_CLEANUP.\n",
      "Hide these hints with HOMEBREW_NO_ENV_HINTS (see `man brew`).\n"
     ]
    }
   ],
   "source": [
    "# https://github.com/openai/whisper/discussions/563\n",
    "!brew uninstall librist --ignore-dependencies\n",
    "!brew uninstall mbedtls --ignore-dependencies\n",
    "!brew reinstall ffmpeg"
   ]
  },
  {
   "cell_type": "code",
   "execution_count": 32,
   "id": "982943ab-c647-416a-b2e1-fb729421ad7f",
   "metadata": {},
   "outputs": [
    {
     "name": "stderr",
     "output_type": "stream",
     "text": [
      "/Library/Frameworks/Python.framework/Versions/3.11/lib/python3.11/site-packages/stable_whisper/whisper_word_level.py:224: UserWarning: FP16 is not supported on CPU; using FP32 instead\n",
      "  warnings.warn(\"FP16 is not supported on CPU; using FP32 instead\")\n",
      "Transcribe:   0%|                                                                                                                                                                               | 0/59.71 [00:00<?, ?sec/s]"
     ]
    },
    {
     "name": "stdout",
     "output_type": "stream",
     "text": [
      "Detected language: english\n"
     ]
    },
    {
     "name": "stderr",
     "output_type": "stream",
     "text": [
      "Transcribe: 100%|███████████████████████████████████████████████████████████████████████████████████████████████████████████████████████████████████████████████████████████████████| 59.71/59.71 [00:05<00:00, 11.23sec/s]\n"
     ]
    }
   ],
   "source": [
    "result = model.transcribe('data/animating svgs.mp4')"
   ]
  },
  {
   "cell_type": "code",
   "execution_count": 34,
   "id": "accd6be3-cd8f-4d91-9e7c-f1b7d62810c6",
   "metadata": {},
   "outputs": [
    {
     "name": "stdout",
     "output_type": "stream",
     "text": [
      "Saved: /Users/richardawoyemi/Code/ai-notes/examples/jupyter-notebooks/audio_2.srt\n"
     ]
    }
   ],
   "source": [
    "result.to_srt_vtt('audio_2.srt',word_level=True,segment_level=False)"
   ]
  },
  {
   "cell_type": "code",
   "execution_count": 26,
   "id": "f6d7868b-cd37-4392-b12a-47e3947a25d8",
   "metadata": {},
   "outputs": [
    {
     "name": "stdout",
     "output_type": "stream",
     "text": [
      "<stable_whisper.result.WhisperResult object at 0x15b3dcfd0>\n"
     ]
    }
   ],
   "source": [
    "print(result)"
   ]
  },
  {
   "cell_type": "code",
   "execution_count": null,
   "id": "f78e6e54-4187-4393-8d24-0c4e83de954f",
   "metadata": {},
   "outputs": [],
   "source": []
  }
 ],
 "metadata": {
  "kernelspec": {
   "display_name": "Python 3 (ipykernel)",
   "language": "python",
   "name": "python3"
  },
  "language_info": {
   "codemirror_mode": {
    "name": "ipython",
    "version": 3
   },
   "file_extension": ".py",
   "mimetype": "text/x-python",
   "name": "python",
   "nbconvert_exporter": "python",
   "pygments_lexer": "ipython3",
   "version": "3.11.4"
  }
 },
 "nbformat": 4,
 "nbformat_minor": 5
}
