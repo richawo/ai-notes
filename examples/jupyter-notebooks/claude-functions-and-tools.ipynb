{
 "cells": [
  {
   "cell_type": "markdown",
   "id": "c49f4a63-2c0f-4a59-b761-df5f1361e533",
   "metadata": {},
   "source": [
    "# Anthropic Functions & Tools Example"
   ]
  },
  {
   "cell_type": "markdown",
   "id": "43c5787a-b930-46f7-88f6-75f41ec70eee",
   "metadata": {},
   "source": [
    "### Install Dependencies"
   ]
  },
  {
   "cell_type": "code",
   "execution_count": 1,
   "id": "cab2810a-41cd-4f6d-9bd5-8d277b07766d",
   "metadata": {
    "scrolled": true
   },
   "outputs": [
    {
     "name": "stdout",
     "output_type": "stream",
     "text": [
      "Requirement already satisfied: anthropic in /Library/Frameworks/Python.framework/Versions/3.11/lib/python3.11/site-packages (0.3.6)\n",
      "Requirement already satisfied: anyio<4,>=3.5.0 in /Library/Frameworks/Python.framework/Versions/3.11/lib/python3.11/site-packages (from anthropic) (3.7.1)\n",
      "Requirement already satisfied: distro<2,>=1.7.0 in /Library/Frameworks/Python.framework/Versions/3.11/lib/python3.11/site-packages (from anthropic) (1.8.0)\n",
      "Requirement already satisfied: httpx<1,>=0.23.0 in /Library/Frameworks/Python.framework/Versions/3.11/lib/python3.11/site-packages (from anthropic) (0.24.1)\n",
      "Requirement already satisfied: pydantic<2.0.0,>=1.9.0 in /Library/Frameworks/Python.framework/Versions/3.11/lib/python3.11/site-packages (from anthropic) (1.10.11)\n",
      "Requirement already satisfied: tokenizers>=0.13.0 in /Library/Frameworks/Python.framework/Versions/3.11/lib/python3.11/site-packages (from anthropic) (0.14.0)\n",
      "Requirement already satisfied: typing-extensions<5,>=4.1.1 in /Library/Frameworks/Python.framework/Versions/3.11/lib/python3.11/site-packages (from anthropic) (4.8.0)\n",
      "Requirement already satisfied: idna>=2.8 in /Library/Frameworks/Python.framework/Versions/3.11/lib/python3.11/site-packages (from anyio<4,>=3.5.0->anthropic) (3.4)\n",
      "Requirement already satisfied: sniffio>=1.1 in /Library/Frameworks/Python.framework/Versions/3.11/lib/python3.11/site-packages (from anyio<4,>=3.5.0->anthropic) (1.3.0)\n",
      "Requirement already satisfied: certifi in /Library/Frameworks/Python.framework/Versions/3.11/lib/python3.11/site-packages (from httpx<1,>=0.23.0->anthropic) (2023.7.22)\n",
      "Requirement already satisfied: httpcore<0.18.0,>=0.15.0 in /Library/Frameworks/Python.framework/Versions/3.11/lib/python3.11/site-packages (from httpx<1,>=0.23.0->anthropic) (0.17.3)\n",
      "Requirement already satisfied: huggingface_hub<0.17,>=0.16.4 in /Library/Frameworks/Python.framework/Versions/3.11/lib/python3.11/site-packages (from tokenizers>=0.13.0->anthropic) (0.16.4)\n",
      "Requirement already satisfied: h11<0.15,>=0.13 in /Library/Frameworks/Python.framework/Versions/3.11/lib/python3.11/site-packages (from httpcore<0.18.0,>=0.15.0->httpx<1,>=0.23.0->anthropic) (0.14.0)\n",
      "Requirement already satisfied: filelock in /Library/Frameworks/Python.framework/Versions/3.11/lib/python3.11/site-packages (from huggingface_hub<0.17,>=0.16.4->tokenizers>=0.13.0->anthropic) (3.12.2)\n",
      "Requirement already satisfied: fsspec in /Library/Frameworks/Python.framework/Versions/3.11/lib/python3.11/site-packages (from huggingface_hub<0.17,>=0.16.4->tokenizers>=0.13.0->anthropic) (2023.6.0)\n",
      "Requirement already satisfied: requests in /Library/Frameworks/Python.framework/Versions/3.11/lib/python3.11/site-packages (from huggingface_hub<0.17,>=0.16.4->tokenizers>=0.13.0->anthropic) (2.31.0)\n",
      "Requirement already satisfied: tqdm>=4.42.1 in /Library/Frameworks/Python.framework/Versions/3.11/lib/python3.11/site-packages (from huggingface_hub<0.17,>=0.16.4->tokenizers>=0.13.0->anthropic) (4.65.0)\n",
      "Requirement already satisfied: pyyaml>=5.1 in /Library/Frameworks/Python.framework/Versions/3.11/lib/python3.11/site-packages (from huggingface_hub<0.17,>=0.16.4->tokenizers>=0.13.0->anthropic) (6.0)\n",
      "Requirement already satisfied: packaging>=20.9 in /Library/Frameworks/Python.framework/Versions/3.11/lib/python3.11/site-packages (from huggingface_hub<0.17,>=0.16.4->tokenizers>=0.13.0->anthropic) (23.1)\n",
      "Requirement already satisfied: charset-normalizer<4,>=2 in /Library/Frameworks/Python.framework/Versions/3.11/lib/python3.11/site-packages (from requests->huggingface_hub<0.17,>=0.16.4->tokenizers>=0.13.0->anthropic) (3.1.0)\n",
      "Requirement already satisfied: urllib3<3,>=1.21.1 in /Library/Frameworks/Python.framework/Versions/3.11/lib/python3.11/site-packages (from requests->huggingface_hub<0.17,>=0.16.4->tokenizers>=0.13.0->anthropic) (1.26.16)\n",
      "\n",
      "\u001b[1m[\u001b[0m\u001b[34;49mnotice\u001b[0m\u001b[1;39;49m]\u001b[0m\u001b[39;49m A new release of pip is available: \u001b[0m\u001b[31;49m23.2.1\u001b[0m\u001b[39;49m -> \u001b[0m\u001b[32;49m23.3.1\u001b[0m\n",
      "\u001b[1m[\u001b[0m\u001b[34;49mnotice\u001b[0m\u001b[1;39;49m]\u001b[0m\u001b[39;49m To update, run: \u001b[0m\u001b[32;49mpip install --upgrade pip\u001b[0m\n",
      "Note: you may need to restart the kernel to use updated packages.\n",
      "Requirement already satisfied: defusedxml in /Library/Frameworks/Python.framework/Versions/3.11/lib/python3.11/site-packages (0.7.1)\n",
      "\n",
      "\u001b[1m[\u001b[0m\u001b[34;49mnotice\u001b[0m\u001b[1;39;49m]\u001b[0m\u001b[39;49m A new release of pip is available: \u001b[0m\u001b[31;49m23.2.1\u001b[0m\u001b[39;49m -> \u001b[0m\u001b[32;49m23.3.1\u001b[0m\n",
      "\u001b[1m[\u001b[0m\u001b[34;49mnotice\u001b[0m\u001b[1;39;49m]\u001b[0m\u001b[39;49m To update, run: \u001b[0m\u001b[32;49mpip install --upgrade pip\u001b[0m\n",
      "Note: you may need to restart the kernel to use updated packages.\n",
      "Requirement already satisfied: requests in /Library/Frameworks/Python.framework/Versions/3.11/lib/python3.11/site-packages (2.31.0)\n",
      "Requirement already satisfied: charset-normalizer<4,>=2 in /Library/Frameworks/Python.framework/Versions/3.11/lib/python3.11/site-packages (from requests) (3.1.0)\n",
      "Requirement already satisfied: idna<4,>=2.5 in /Library/Frameworks/Python.framework/Versions/3.11/lib/python3.11/site-packages (from requests) (3.4)\n",
      "Requirement already satisfied: urllib3<3,>=1.21.1 in /Library/Frameworks/Python.framework/Versions/3.11/lib/python3.11/site-packages (from requests) (1.26.16)\n",
      "Requirement already satisfied: certifi>=2017.4.17 in /Library/Frameworks/Python.framework/Versions/3.11/lib/python3.11/site-packages (from requests) (2023.7.22)\n",
      "\n",
      "\u001b[1m[\u001b[0m\u001b[34;49mnotice\u001b[0m\u001b[1;39;49m]\u001b[0m\u001b[39;49m A new release of pip is available: \u001b[0m\u001b[31;49m23.2.1\u001b[0m\u001b[39;49m -> \u001b[0m\u001b[32;49m23.3.1\u001b[0m\n",
      "\u001b[1m[\u001b[0m\u001b[34;49mnotice\u001b[0m\u001b[1;39;49m]\u001b[0m\u001b[39;49m To update, run: \u001b[0m\u001b[32;49mpip install --upgrade pip\u001b[0m\n",
      "Note: you may need to restart the kernel to use updated packages.\n"
     ]
    }
   ],
   "source": [
    "%pip install anthropic\n",
    "%pip install defusedxml\n",
    "%pip install requests"
   ]
  },
  {
   "cell_type": "markdown",
   "id": "58f9c820-6620-4e2c-9945-9217f7874cc3",
   "metadata": {},
   "source": [
    "### Import Libraries"
   ]
  },
  {
   "cell_type": "code",
   "execution_count": 2,
   "id": "0cbb6a69-339c-4148-a32f-34544c80d96f",
   "metadata": {},
   "outputs": [],
   "source": [
    "import sys\n",
    "from anthropic import Anthropic, HUMAN_PROMPT, AI_PROMPT\n",
    "from defusedxml import ElementTree\n",
    "from collections import defaultdict\n",
    "import os\n",
    "from typing import Any\n",
    "import requests"
   ]
  },
  {
   "cell_type": "markdown",
   "id": "36e04874-dc2e-4a20-8fd6-03769e08bbe3",
   "metadata": {},
   "source": [
    "### Setup Parameters"
   ]
  },
  {
   "cell_type": "code",
   "execution_count": 21,
   "id": "494e7652-65da-4554-a14f-84b269944f7d",
   "metadata": {},
   "outputs": [],
   "source": [
    "ANTHROPIC_API_KEY = os.environ.get(\"ANTHROPIC_API_KEY\")\n",
    "user_input = \"Whats the difference between the price of Ethereum and Maker?\"\n",
    "model = \"claude-2.1\""
   ]
  },
  {
   "cell_type": "markdown",
   "id": "2ae2f110-42ae-4e00-8bf7-fad6d1c38746",
   "metadata": {},
   "source": [
    "### Define Tools"
   ]
  },
  {
   "cell_type": "code",
   "execution_count": 5,
   "id": "a3745622-1f36-4c35-a070-5805d271058d",
   "metadata": {},
   "outputs": [],
   "source": [
    "def get_weather(latitude: str, longitude: str):\n",
    "  url = f\"https://api.open-meteo.com/v1/forecast?latitude={latitude}&longitude={longitude}&current_weather=true\"\n",
    "  response = requests.get(url)\n",
    "  return response.json()"
   ]
  },
  {
   "cell_type": "code",
   "execution_count": 6,
   "id": "cb05f46e-ce00-4d83-af86-0ff3008f1183",
   "metadata": {},
   "outputs": [],
   "source": [
    "def get_lat_long(place):\n",
    "    url = \"https://nominatim.openstreetmap.org/search\"\n",
    "    params = {'q': place, 'format': 'json', 'limit': 1}\n",
    "    response = requests.get(url, params=params).json()\n",
    "    if response:\n",
    "        lat = response[0][\"lat\"]\n",
    "        lon = response[0][\"lon\"]\n",
    "        return {\"latitude\": lat, \"longitude\": lon}\n",
    "    else:\n",
    "        return None"
   ]
  },
  {
   "cell_type": "code",
   "execution_count": 22,
   "id": "3c3e7b43-d771-4405-9c43-02790c045809",
   "metadata": {},
   "outputs": [],
   "source": [
    "def get_crypto_price(name):\n",
    "    url = \"https://api.coingecko.com/api/v3/simple/price?ids=ethereum&vs_currencies=usd\"\n",
    "\n",
    "    params = {'ids': name.lower(), 'vs_currencies': 'usd'}\n",
    "    response = requests.get(url, params=params).json()\n",
    "\n",
    "    if response:\n",
    "        return response\n",
    "    else:\n",
    "        return None"
   ]
  },
  {
   "cell_type": "code",
   "execution_count": 7,
   "id": "7aa078db-cb67-4cf7-a0d7-197bedf0fd2a",
   "metadata": {},
   "outputs": [],
   "source": [
    "get_weather_description = \"\"\"\n",
    "<tool_description>\n",
    "<tool_name>get_weather</tool_name>\n",
    "<description>\n",
    "Returns weather data for a given latitude and longitude. </description>\n",
    "<parameters>\n",
    "<parameter>\n",
    "<name>latitude</name>\n",
    "<type>string</type>\n",
    "<description>The latitude coordinate as a string</description>\n",
    "</parameter> <parameter>\n",
    "<name>longitude</name>\n",
    "<type>string</type>\n",
    "<description>The longitude coordinate as a string</description>\n",
    "</parameter>\n",
    "</parameters>\n",
    "</tool_description>\n",
    "\"\"\""
   ]
  },
  {
   "cell_type": "code",
   "execution_count": 8,
   "id": "07f8ad2c-d75b-4b35-ac7f-35bd5181d718",
   "metadata": {},
   "outputs": [],
   "source": [
    "get_lat_long_description = \"\"\"<tool_description>\n",
    "<tool_name>get_lat_long</tool_name>\n",
    "<description>\n",
    "Returns the latitude and longitude for a given place name.\n",
    "</description>\n",
    "<parameters>\n",
    "<parameter>\n",
    "<name>place</name>  \n",
    "<type>string</type>\n",
    "<description>\n",
    "The place name to geocode and get coordinates for.\n",
    "</description>\n",
    "</parameter>\n",
    "</parameters>\n",
    "</tool_description>\"\"\""
   ]
  },
  {
   "cell_type": "code",
   "execution_count": 23,
   "id": "4f2d26aa-6ab6-4807-87c9-a4583ba3a08d",
   "metadata": {},
   "outputs": [],
   "source": [
    "get_crypto_price_description = \"\"\"<tool_description>\n",
    "<tool_name>get_crypto_price</tool_name>\n",
    "<description>\n",
    "Returns the price of a cryptocurrency in usd.\n",
    "</description>\n",
    "<parameters>\n",
    "<parameter>\n",
    "<name>name</name>  \n",
    "<type>string</type>\n",
    "<description>\n",
    "The full name of the cryptocurrency in lowercase.\n",
    "</description>\n",
    "</parameter>\n",
    "</parameters>\n",
    "</tool_description>\"\"\""
   ]
  },
  {
   "cell_type": "code",
   "execution_count": 24,
   "id": "60dc5489-fcc0-416b-aef3-4fc908b82193",
   "metadata": {},
   "outputs": [],
   "source": [
    "list_of_tools_specs = [get_weather_description, get_lat_long_description, get_crypto_price_description]\n",
    "\n",
    "tools_string = \"\"\n",
    "for tool_spec in list_of_tools_specs:\n",
    "    tools_string += tool_spec"
   ]
  },
  {
   "cell_type": "markdown",
   "id": "4d634c55-2a37-4140-919f-86beea3fb03a",
   "metadata": {},
   "source": [
    "### Create Tool Use Prompt"
   ]
  },
  {
   "cell_type": "code",
   "execution_count": 10,
   "id": "37ab1a39-c34d-49b8-ae60-b8534ce0923e",
   "metadata": {},
   "outputs": [],
   "source": [
    "def create_prompt(user_input):\n",
    "    prompt_template = f\"\"\"\n",
    "In this environment, you have access to a set of tools you can use to answer the user's question.\n",
    "\n",
    "You may call them like this. Only invoke one function at a time and wait for the results before invoking another function:\n",
    "<function_calls>\n",
    "<invoke>\n",
    "<tool_name>$TOOL_NAME</tool_name>\n",
    "<parameters>\n",
    "<$PARAMETER_NAME>$PARAMETER_VALUE</$PARAMETER_NAME>\n",
    "...\n",
    "</parameters>\n",
    "</invoke>\n",
    "</function_calls>\n",
    "\n",
    "Here are the tools available:\n",
    "<tools>\n",
    "{tools_string}\n",
    "</tools>\n",
    "\n",
    "Human:\n",
    "{user_input}\n",
    "\n",
    "\n",
    "Assistant:\n",
    "\"\"\"\n",
    "    return prompt_template"
   ]
  },
  {
   "cell_type": "markdown",
   "id": "12961155-0074-4a6a-8537-186a6c5191cd",
   "metadata": {},
   "source": [
    "### Call Function"
   ]
  },
  {
   "cell_type": "code",
   "execution_count": 11,
   "id": "28408e9b-8b21-45dd-af18-d6c4504aa0d2",
   "metadata": {},
   "outputs": [],
   "source": [
    "def call_function(tool_name, parameters):\n",
    "    func = globals()[tool_name] \n",
    "    output = func(**parameters)\n",
    "    return output"
   ]
  },
  {
   "cell_type": "markdown",
   "id": "564235ad-9473-4edc-9c04-c8ba40daccd5",
   "metadata": {},
   "source": [
    "### Format Result\n",
    "\n",
    "This function will format the result from our function call into the proper XML structure."
   ]
  },
  {
   "cell_type": "code",
   "execution_count": 12,
   "id": "f12fdc63-9a95-4485-a180-fb10de40fa07",
   "metadata": {},
   "outputs": [],
   "source": [
    "def format_result(tool_name, output):\n",
    "    return f\"\"\"\n",
    "<function_results>\n",
    "<result>\n",
    "<tool_name>{tool_name}</tool_name>\n",
    "<stdout>\n",
    "{output}\n",
    "</stdout>\n",
    "</result>\n",
    "</function_results>\n",
    "\"\"\""
   ]
  },
  {
   "cell_type": "markdown",
   "id": "c8ee8898-e858-48d9-8366-f92de1844815",
   "metadata": {},
   "source": [
    "### XML Etree to Python Dict"
   ]
  },
  {
   "cell_type": "code",
   "execution_count": 19,
   "id": "88bf6b61-31d5-45c8-b3fb-cd3f97dcec7f",
   "metadata": {},
   "outputs": [],
   "source": [
    "def etree_to_dict(t) -> dict[str, Any]:\n",
    "    d = {t.tag: {}}\n",
    "    children = list(t)\n",
    "    if children:\n",
    "        dd = defaultdict(list)\n",
    "        for dc in map(etree_to_dict, children):\n",
    "            for k, v in dc.items():\n",
    "                dd[k].append(v)\n",
    "        d = {t.tag: {k: v[0] if len(v) == 1 else v for k, v in dd.items()}}\n",
    "    if t.attrib:\n",
    "        d[t.tag].update((\"@\" + k, v) for k, v in t.attrib.items())\n",
    "    if t.text and t.text.strip():\n",
    "        if children or t.attrib:\n",
    "            d[t.tag][\"#text\"] = t.text\n",
    "        else:\n",
    "            d[t.tag] = t.text\n",
    "    return d"
   ]
  },
  {
   "cell_type": "markdown",
   "id": "595e2e58-d014-44ba-adcb-b49e124410bc",
   "metadata": {},
   "source": [
    "### Create Run Loop Logic\n",
    "\n",
    "This function is the actual orchestrator of the function calling logic. Here's how it works:\n",
    "\n",
    "1. We kick off a loop that first calls Claude with our tool use prompt with the tool specs and the user input loaded into it.\n",
    "2. We get the completion from Claude and check if the stop sequence for the completion was the closing XML tag for a function call, ```</function_calls>```\n",
    "3. If the completion does in fact contain a function call, we extract out the tool name and the tool parameters from the XML.\n",
    "4. We then call the function that Claude has decided to invoke.\n",
    "5. We take the results of the function call, format them into an XML structure, and add them back to the prompt.\n",
    "6. We repeat the loop starting at step 1 with the original prompt plus the text that has been appended.\n",
    "7. This process continues until Claude finally outputs an answer and we break the loop."
   ]
  },
  {
   "cell_type": "code",
   "execution_count": 15,
   "id": "8c27472b-d0d9-4877-8e5d-838e4d04ef06",
   "metadata": {},
   "outputs": [],
   "source": [
    "anthropic = Anthropic(api_key=ANTHROPIC_API_KEY)\n",
    "def run_loop(prompt):\n",
    "    print(prompt)\n",
    "    # Start function calling loop\n",
    "    while True:\n",
    "        # Get a completion from Claude\n",
    "        partial_completion = anthropic.completions.create(prompt = prompt,\n",
    "                                                        stop_sequences=[\"\\n\\nHuman:\", \"</function_calls>\"],\n",
    "                                                        model=\"claude-2.1\",\n",
    "                                                        max_tokens_to_sample = 1000,\n",
    "                                                        temperature = 0)\n",
    "        partial_completion, stop_reason, stop_seq = partial_completion.completion, partial_completion.stop_reason, partial_completion.stop # type: ignore\n",
    "\n",
    "        # Append the completion to the end of the prompt\n",
    "        prompt += partial_completion\n",
    "        print(partial_completion)\n",
    "\n",
    "        if stop_reason == 'stop_sequence' and stop_seq == '</function_calls>':\n",
    "            start_index = partial_completion.find(\"<function_calls>\")\n",
    "            if start_index != -1:\n",
    "                # Extract the XML Claude outputted (invoking the function)\n",
    "                extracted_text = partial_completion[start_index+16:]\n",
    "\n",
    "                # Parse the XML find the tool name and the parameters that we need to pass to the tool\n",
    "                xml = ElementTree.fromstring(extracted_text)\n",
    "                tool_name_element = xml.find(\"tool_name\")\n",
    "\n",
    "                if tool_name_element is None:\n",
    "                    print(\"Unable to parse function call, invalid XML or missing 'tool_name' tag\")\n",
    "                    break\n",
    "\n",
    "                tool_name_from_xml = tool_name_element.text.strip()\n",
    "                parameters_xml = xml.find(\"parameters\")\n",
    "                \n",
    "                if parameters_xml is None:\n",
    "                    print(\"Unable to parse function call, invalid XML or missing 'parameters' tag\")\n",
    "                    break\n",
    "\n",
    "                param_dict = etree_to_dict(parameters_xml)\n",
    "                parameters = param_dict[\"parameters\"]\n",
    "\n",
    "                output = call_function(tool_name_from_xml, parameters)\n",
    "\n",
    "                prompt += \"</function_calls>\"\n",
    "                print(\"</function_calls>\")\n",
    "\n",
    "                # Add the result from calling the tool back to the prompt\n",
    "                function_result = format_result(tool_name_from_xml, output)\n",
    "                prompt += function_result\n",
    "                print(function_result)\n",
    "\n",
    "        else:\n",
    "            break"
   ]
  },
  {
   "cell_type": "markdown",
   "id": "35eee182-b501-463a-8087-66c49103505a",
   "metadata": {},
   "source": [
    "### Make Request"
   ]
  },
  {
   "cell_type": "code",
   "execution_count": 25,
   "id": "9f856d39-d6df-416e-b342-fc43f104e86b",
   "metadata": {},
   "outputs": [],
   "source": [
    "prompt = create_prompt(user_input)"
   ]
  },
  {
   "cell_type": "code",
   "execution_count": 26,
   "id": "0643c194-e44b-4638-9b54-eb8f2df91243",
   "metadata": {},
   "outputs": [
    {
     "name": "stdout",
     "output_type": "stream",
     "text": [
      "\n",
      "In this environment, you have access to a set of tools you can use to answer the user's question.\n",
      "\n",
      "You may call them like this. Only invoke one function at a time and wait for the results before invoking another function:\n",
      "<function_calls>\n",
      "<invoke>\n",
      "<tool_name>$TOOL_NAME</tool_name>\n",
      "<parameters>\n",
      "<$PARAMETER_NAME>$PARAMETER_VALUE</$PARAMETER_NAME>\n",
      "...\n",
      "</parameters>\n",
      "</invoke>\n",
      "</function_calls>\n",
      "\n",
      "Here are the tools available:\n",
      "<tools>\n",
      "\n",
      "<tool_description>\n",
      "<tool_name>get_weather</tool_name>\n",
      "<description>\n",
      "Returns weather data for a given latitude and longitude. </description>\n",
      "<parameters>\n",
      "<parameter>\n",
      "<name>latitude</name>\n",
      "<type>string</type>\n",
      "<description>The latitude coordinate as a string</description>\n",
      "</parameter> <parameter>\n",
      "<name>longitude</name>\n",
      "<type>string</type>\n",
      "<description>The longitude coordinate as a string</description>\n",
      "</parameter>\n",
      "</parameters>\n",
      "</tool_description>\n",
      "<tool_description>\n",
      "<tool_name>get_lat_long</tool_name>\n",
      "<description>\n",
      "Returns the latitude and longitude for a given place name.\n",
      "</description>\n",
      "<parameters>\n",
      "<parameter>\n",
      "<name>place</name>  \n",
      "<type>string</type>\n",
      "<description>\n",
      "The place name to geocode and get coordinates for.\n",
      "</description>\n",
      "</parameter>\n",
      "</parameters>\n",
      "</tool_description><tool_description>\n",
      "<tool_name>get_crypto_price</tool_name>\n",
      "<description>\n",
      "Returns the price of a cryptocurrency in usd.\n",
      "</description>\n",
      "<parameters>\n",
      "<parameter>\n",
      "<name>name</name>  \n",
      "<type>string</type>\n",
      "<description>\n",
      "The full name of the cryptocurrency in lowercase.\n",
      "</description>\n",
      "</parameter>\n",
      "</parameters>\n",
      "</tool_description>\n",
      "</tools>\n",
      "\n",
      "Human:\n",
      "Whats the difference between the price of Ethereum and Maker?\n",
      "\n",
      "\n",
      "Assistant:\n",
      "\n"
     ]
    }
   ],
   "source": [
    "print(prompt)"
   ]
  },
  {
   "cell_type": "code",
   "execution_count": 27,
   "id": "facdce19-8224-43cd-84f3-7c752cb064c8",
   "metadata": {},
   "outputs": [
    {
     "name": "stdout",
     "output_type": "stream",
     "text": [
      "\n",
      "In this environment, you have access to a set of tools you can use to answer the user's question.\n",
      "\n",
      "You may call them like this. Only invoke one function at a time and wait for the results before invoking another function:\n",
      "<function_calls>\n",
      "<invoke>\n",
      "<tool_name>$TOOL_NAME</tool_name>\n",
      "<parameters>\n",
      "<$PARAMETER_NAME>$PARAMETER_VALUE</$PARAMETER_NAME>\n",
      "...\n",
      "</parameters>\n",
      "</invoke>\n",
      "</function_calls>\n",
      "\n",
      "Here are the tools available:\n",
      "<tools>\n",
      "\n",
      "<tool_description>\n",
      "<tool_name>get_weather</tool_name>\n",
      "<description>\n",
      "Returns weather data for a given latitude and longitude. </description>\n",
      "<parameters>\n",
      "<parameter>\n",
      "<name>latitude</name>\n",
      "<type>string</type>\n",
      "<description>The latitude coordinate as a string</description>\n",
      "</parameter> <parameter>\n",
      "<name>longitude</name>\n",
      "<type>string</type>\n",
      "<description>The longitude coordinate as a string</description>\n",
      "</parameter>\n",
      "</parameters>\n",
      "</tool_description>\n",
      "<tool_description>\n",
      "<tool_name>get_lat_long</tool_name>\n",
      "<description>\n",
      "Returns the latitude and longitude for a given place name.\n",
      "</description>\n",
      "<parameters>\n",
      "<parameter>\n",
      "<name>place</name>  \n",
      "<type>string</type>\n",
      "<description>\n",
      "The place name to geocode and get coordinates for.\n",
      "</description>\n",
      "</parameter>\n",
      "</parameters>\n",
      "</tool_description><tool_description>\n",
      "<tool_name>get_crypto_price</tool_name>\n",
      "<description>\n",
      "Returns the price of a cryptocurrency in usd.\n",
      "</description>\n",
      "<parameters>\n",
      "<parameter>\n",
      "<name>name</name>  \n",
      "<type>string</type>\n",
      "<description>\n",
      "The full name of the cryptocurrency in lowercase.\n",
      "</description>\n",
      "</parameter>\n",
      "</parameters>\n",
      "</tool_description>\n",
      "</tools>\n",
      "\n",
      "Human:\n",
      "Whats the difference between the price of Ethereum and Maker?\n",
      "\n",
      "\n",
      "Assistant:\n",
      "\n",
      " <function_calls>\n",
      "<invoke>\n",
      "<tool_name>get_crypto_price</tool_name>\n",
      "<parameters>\n",
      "<name>ethereum</name>\n",
      "</parameters>\n",
      "</invoke>\n",
      "\n",
      "</function_calls>\n",
      "\n",
      "<function_results>\n",
      "<result>\n",
      "<tool_name>get_crypto_price</tool_name>\n",
      "<stdout>\n",
      "{'ethereum': {'usd': 2031.91}}\n",
      "</stdout>\n",
      "</result>\n",
      "</function_results>\n",
      "\n",
      "\n",
      "<function_calls>\n",
      "<invoke>\n",
      "<tool_name>get_crypto_price</tool_name>\n",
      "<parameters>\n",
      "<name>maker</name>\n",
      "</parameters>\n",
      "</invoke>\n",
      "\n",
      "</function_calls>\n",
      "\n",
      "<function_results>\n",
      "<result>\n",
      "<tool_name>get_crypto_price</tool_name>\n",
      "<stdout>\n",
      "{'maker': {'usd': 1467.53}}\n",
      "</stdout>\n",
      "</result>\n",
      "</function_results>\n",
      "\n",
      "\n",
      "To find the difference in price between Ethereum and Maker:\n",
      "\n",
      "Ethereum price: $2031.91\n",
      "Maker price: $1467.53\n",
      "\n",
      "Difference: $2031.91 - $1467.53 = $564.38\n",
      "\n",
      "So the difference in price between Ethereum and Maker is $564.38, with Ethereum having the higher price.\n"
     ]
    }
   ],
   "source": [
    "run_loop(prompt)"
   ]
  },
  {
   "cell_type": "code",
   "execution_count": null,
   "id": "36cebd00-4747-4a44-822b-ef9d4b37a917",
   "metadata": {},
   "outputs": [],
   "source": []
  }
 ],
 "metadata": {
  "kernelspec": {
   "display_name": "Python 3 (ipykernel)",
   "language": "python",
   "name": "python3"
  },
  "language_info": {
   "codemirror_mode": {
    "name": "ipython",
    "version": 3
   },
   "file_extension": ".py",
   "mimetype": "text/x-python",
   "name": "python",
   "nbconvert_exporter": "python",
   "pygments_lexer": "ipython3",
   "version": "3.11.4"
  }
 },
 "nbformat": 4,
 "nbformat_minor": 5
}
